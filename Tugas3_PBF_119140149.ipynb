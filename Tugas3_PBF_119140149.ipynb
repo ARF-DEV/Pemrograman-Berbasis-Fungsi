{
 "cells": [
  {
   "cell_type": "code",
   "execution_count": 11,
   "metadata": {},
   "outputs": [
    {
     "name": "stdout",
     "output_type": "stream",
     "text": [
      "[16, 3.0, 22, 4.0]\n",
      "[16, 3.0, 22, 4.0]\n"
     ]
    }
   ],
   "source": [
    "# 1. ubah fungsiku menjadi pure function!\n",
    "def fungsiku(L):\n",
    "  def check_genap(l):\n",
    "    return l % 2==0\n",
    "  for i in range(len(L)):\n",
    "    if check_genap(L[i]):\n",
    "      L[i]=L[i]/2\n",
    "    else:\n",
    "      L[i]=L[i]*n+1\n",
    "  return L\n",
    "\n",
    "n=3\n",
    "L=[5,6,7,8]\n",
    "print(fungsiku(L))\n",
    "\n",
    "print(L)"
   ]
  },
  {
   "cell_type": "code",
   "execution_count": 12,
   "metadata": {},
   "outputs": [
    {
     "name": "stdout",
     "output_type": "stream",
     "text": [
      "[16, 3.0, 22, 4.0]\n",
      "[5, 6, 7, 8]\n"
     ]
    }
   ],
   "source": [
    "# Jawaban 1\n",
    "def fungsiku(L, n):\n",
    "  def check_genap(l):\n",
    "    return l % 2 == 0\n",
    "  \n",
    "  result = []\n",
    "  for i in range(len(L)):\n",
    "    if check_genap(L[i]):\n",
    "      result.append(L[i] / 2)\n",
    "    else:\n",
    "      result.append(L[i] * n + 1)\n",
    "  \n",
    "  return result\n",
    "n=3\n",
    "L=[5,6,7,8]\n",
    "print(fungsiku(L, n))\n",
    "\n",
    "print(L)"
   ]
  },
  {
   "cell_type": "code",
   "execution_count": 13,
   "metadata": {},
   "outputs": [
    {
     "name": "stdout",
     "output_type": "stream",
     "text": [
      "[16, 3.0, 22, 25]\n",
      "[16, 3.0, 22, 25]\n"
     ]
    }
   ],
   "source": [
    "# 2. ubah fungsiku2 menjadi pure function!\n",
    "def fungsiku2(L):\n",
    "  def check_faktor(l):\n",
    "    return l%n==0\n",
    "  for i in range (len(L)):\n",
    "    if check_faktor(L[i]):\n",
    "      L[i]=L[i]/2\n",
    "    else:\n",
    "      L[i]=L[i]*n+1\n",
    "  return L\n",
    "\n",
    "n=3\n",
    "L=[5,6,7,8]\n",
    "print(list(fungsiku2(L)))\n",
    "print(L)"
   ]
  },
  {
   "cell_type": "code",
   "execution_count": 14,
   "metadata": {},
   "outputs": [
    {
     "name": "stdout",
     "output_type": "stream",
     "text": [
      "[16, 3.0, 22, 25]\n",
      "[5, 6, 7, 8]\n"
     ]
    }
   ],
   "source": [
    "# Jawaban 2\n",
    "def fungsiku2(L, n):\n",
    "  def check_faktor(l):\n",
    "    return l % n == 0\n",
    "  \n",
    "  result = []\n",
    "  for i in range(len(L)):\n",
    "    if check_faktor(L[i]):\n",
    "      result.append(L[i] / 2)\n",
    "    else:\n",
    "      result.append(L[i] * n + 1)\n",
    "  \n",
    "  return result\n",
    "\n",
    "n = 3\n",
    "L = [5, 6, 7, 8]\n",
    "print(list(fungsiku2(L, n)))\n",
    "print(L)"
   ]
  },
  {
   "cell_type": "code",
   "execution_count": 15,
   "metadata": {},
   "outputs": [
    {
     "name": "stdout",
     "output_type": "stream",
     "text": [
      "([3, 4, 5], 'myname')\n",
      "([20, 4, 5], 'myname')\n"
     ]
    }
   ],
   "source": [
    "# 3. Apakah isi dalam tuple tup ada yang dapat diubah? tup=([3,4,5],'myname')\n",
    "tup = ([3, 4, 5], 'myname')\n",
    "print(tup)  # Output: ([3, 4, 5], 'myname')\n",
    "\n",
    "tup[0][0] = 20\n",
    "print(tup)  # Output: ([3, 10, 5], 'myname')\n",
    "\n",
    "# nilai didalam list bisa dirubah karena list bersifat mutable\n",
    "# sedangkan string bersifat immutable sehingga tidak bisa dirubah\n",
    "# jika ingin mengubah string, maka harus membuat string baru\n",
    "# yang dimana hal tersebut tidak bisa dilakukan didalam tuple\n",
    "# karena tuple bersifat immutable"
   ]
  },
  {
   "cell_type": "code",
   "execution_count": 16,
   "metadata": {},
   "outputs": [
    {
     "name": "stdout",
     "output_type": "stream",
     "text": [
      "225\n"
     ]
    }
   ],
   "source": [
    "# 4. \n",
    "from functools import reduce\n",
    "Addku= lambda x: x+10\n",
    "Powku= lambda x: x**2\n",
    "Kurku= lambda x: -x\n",
    "\n",
    "def compuse(*functions):\n",
    "  def compuse2(f, g):\n",
    "    return lambda x: f(g(x))\n",
    "  return reduce(compuse2, functions)\n",
    "  \n",
    "print(compuse(Powku, Kurku, Addku)(5))"
   ]
  },
  {
   "cell_type": "code",
   "execution_count": 17,
   "metadata": {},
   "outputs": [
    {
     "name": "stdout",
     "output_type": "stream",
     "text": [
      "5.968719422671311\n"
     ]
    }
   ],
   "source": [
    "# fungsi invers\n",
    "from math import sqrt\n",
    "Inv_Addku = lambda x: x - 10\n",
    "Inv_Powku = lambda x: sqrt(x)\n",
    "Inv_Kurku = lambda x: x\n",
    "\n",
    "def compuse_inversed(*functions):\n",
    "  def compuse2(f, g):\n",
    "    return lambda x: f(g(x))\n",
    "  return reduce(compuse2, functions)\n",
    "\n",
    "print(compuse_inversed(Inv_Addku, Inv_Kurku, Inv_Powku)(255))"
   ]
  },
  {
   "cell_type": "code",
   "execution_count": 18,
   "metadata": {},
   "outputs": [
    {
     "name": "stdout",
     "output_type": "stream",
     "text": [
      "Biaya UKT yang harus dibayarkan: Rp 2550000.0\n"
     ]
    }
   ],
   "source": [
    "# 5\n",
    "def skor_tanggungan(jumlah_tanggungan):\n",
    "    return 1 if jumlah_tanggungan >= 5 else 5 - jumlah_tanggungan\n",
    "\n",
    "def skor_token_listrik(rata_rata_token):\n",
    "    if rata_rata_token > 100000:\n",
    "        skor = 3\n",
    "    elif rata_rata_token >= 50000:\n",
    "        skor = 2\n",
    "    else:\n",
    "        skor = 1\n",
    "    return skor\n",
    "\n",
    "def skor_gaji(gaji):\n",
    "    if gaji > 10000000:\n",
    "        skor = 7\n",
    "    elif 8000000 < gaji <= 10000000:\n",
    "        skor = 6\n",
    "    elif 6000000 < gaji <= 8000000:\n",
    "        skor = 5\n",
    "    elif 4000000 < gaji <= 6000000:\n",
    "        skor = 4\n",
    "    elif 3000000 < gaji <= 4000000:\n",
    "        skor = 3\n",
    "    else:\n",
    "        skor = 2\n",
    "    return skor\n",
    "\n",
    "def skor_kipk(peserta_kipk):\n",
    "    return 1 if peserta_kipk else 5\n",
    "\n",
    "def biaya_ukt(jumlah_tanggungan, rata_rata_token, gaji, peserta_kipk):\n",
    "    skor_total = 0.2 * skor_tanggungan(jumlah_tanggungan) + 0.3 * skor_token_listrik(rata_rata_token) + 0.2 * skor_gaji(gaji) + 0.3 * skor_kipk(peserta_kipk)\n",
    "    uang_pokok = 750000\n",
    "    jumlah_bayar_ukt = uang_pokok + skor_total * 500000\n",
    "\n",
    "    return jumlah_bayar_ukt\n",
    "\n",
    "token_3_bulan_terakhir = [100000, 740000, 100000]\n",
    "gaji = 5500000\n",
    "jumlah_tanggungan = 3\n",
    "peserta_kipk = False\n",
    "rata_rata_token = sum(token_3_bulan_terakhir) / len(token_3_bulan_terakhir)\n",
    "\n",
    "biaya_ukt_total = biaya_ukt(jumlah_tanggungan, rata_rata_token, gaji, peserta_kipk)\n",
    "print(\"Biaya UKT yang harus dibayarkan: Rp\", biaya_ukt_total)"
   ]
  },
  {
   "cell_type": "code",
   "execution_count": 19,
   "metadata": {},
   "outputs": [
    {
     "name": "stdout",
     "output_type": "stream",
     "text": [
      "Requirement already satisfied: sympy in /home/poposnek/.local/lib/python3.8/site-packages (1.12)\n",
      "Requirement already satisfied: mpmath>=0.19 in /home/poposnek/.local/lib/python3.8/site-packages (from sympy) (1.3.0)\n",
      "Note: you may need to restart the kernel to use updated packages.\n"
     ]
    }
   ],
   "source": [
    "%pip install sympy"
   ]
  },
  {
   "cell_type": "code",
   "execution_count": 20,
   "metadata": {},
   "outputs": [
    {
     "name": "stdout",
     "output_type": "stream",
     "text": [
      "-15\n",
      "0\n"
     ]
    }
   ],
   "source": [
    "#  6\n",
    "\n",
    "from sympy import symbols, diff\n",
    "\n",
    "def turunan_polinom(polinom, variabel):\n",
    "    x = symbols(variabel)\n",
    "    polinom_expr = eval(polinom.replace('x', 'x').replace('^', '*'))\n",
    "    turunan_expr = diff(polinom_expr, x)\n",
    "    turunan = str(turunan_expr).replace('**', '^').replace('*x', 'x')\n",
    "    return turunan\n",
    "\n",
    "# input data\n",
    "input = '-3*x^5 + 2*x^2 - 4*x + 5'\n",
    "derr1 = turunan_polinom(input, 'x')\n",
    "print(derr1)\n",
    "\n",
    "derr2 = turunan_polinom(derr1, 'x')\n",
    "print(derr2)"
   ]
  },
  {
   "cell_type": "code",
   "execution_count": 21,
   "metadata": {},
   "outputs": [
    {
     "name": "stdout",
     "output_type": "stream",
     "text": [
      "Price without tax: 280.0\n",
      "Price with tax: 310.8\n",
      "Execution time: 0.0008003711700439453 seconds\n"
     ]
    }
   ],
   "source": [
    "# 7\n",
    "## get execution time decorator\n",
    "import time\n",
    "\n",
    "def get_execution_time(func):\n",
    "    def wrapper(*args, **kwargs):\n",
    "        start = time.time()\n",
    "        func(*args, **kwargs)\n",
    "        end = time.time()\n",
    "        print(\"Execution time:\", end - start, \"seconds\")\n",
    "    return wrapper\n",
    "\n",
    "\n",
    "## add tax decorator\n",
    "def add_tax_decorator(func):\n",
    "    def wrapper(price, tax):\n",
    "        price_with_tax = func(price, tax)\n",
    "        print(\"Price with tax:\", price_with_tax)\n",
    "    return wrapper\n",
    "\n",
    "def add_tax(price, tax):\n",
    "    return price * (1 + tax)\n",
    "\n",
    "@get_execution_time\n",
    "@add_tax_decorator\n",
    "def add_tax(price, tax):\n",
    "    print(\"Price without tax:\", price)\n",
    "    return price * (1 + tax)\n",
    "\n",
    "def calculate_total(cart):\n",
    "    total = 0\n",
    "    for item in cart:\n",
    "        jumlah_barang = item['Jumlah_Barang']\n",
    "        harga = item['Harga']\n",
    "        subtotal = jumlah_barang * harga\n",
    "        total += subtotal\n",
    "    return add_tax(total, 0.11)\n",
    "\n",
    "# Input\n",
    "keranjang = [\n",
    "    {'Jumlah_Barang': 5, 'Harga': 10},\n",
    "    {'Jumlah_Barang': 7, 'Harga': 20},\n",
    "    {'Jumlah_Barang': 20, 'Harga': 4.5}\n",
    "]\n",
    "\n",
    "calculate_total(keranjang)"
   ]
  },
  {
   "cell_type": "code",
   "execution_count": null,
   "metadata": {},
   "outputs": [],
   "source": []
  }
 ],
 "metadata": {
  "kernelspec": {
   "display_name": "Python 3",
   "language": "python",
   "name": "python3"
  },
  "language_info": {
   "codemirror_mode": {
    "name": "ipython",
    "version": 3
   },
   "file_extension": ".py",
   "mimetype": "text/x-python",
   "name": "python",
   "nbconvert_exporter": "python",
   "pygments_lexer": "ipython3",
   "version": "3.8.10"
  },
  "orig_nbformat": 4
 },
 "nbformat": 4,
 "nbformat_minor": 2
}
