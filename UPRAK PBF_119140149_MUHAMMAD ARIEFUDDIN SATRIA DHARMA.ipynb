{
 "cells": [
  {
   "cell_type": "code",
   "execution_count": 3,
   "metadata": {},
   "outputs": [
    {
     "name": "stdout",
     "output_type": "stream",
     "text": [
      "155\n"
     ]
    }
   ],
   "source": [
    "# 1 Learn about recursion\n",
    "\n",
    "input = [1, [[2], 3], [4], 5, [6, 100, [[7], [[8]], 9]], 10]\n",
    "def sum(nums, total = 0):\n",
    "    for i in nums:\n",
    "        if type(i) == list:\n",
    "            total = sum(i, total)\n",
    "        else:\n",
    "            total += i\n",
    "    return total\n",
    "print(sum(input))"
   ]
  },
  {
   "cell_type": "code",
   "execution_count": 4,
   "metadata": {},
   "outputs": [
    {
     "name": "stdout",
     "output_type": "stream",
     "text": [
      "[1, 2, 3, 4, 5, 6, 7, 8, 9, 10]\n"
     ]
    }
   ],
   "source": [
    "# 2 Learn about map, reduce, filter, apply and anonymous functions\n",
    "# 2.1 clist\n",
    "def clist(*args):\n",
    "    return list(args)\n",
    "print(clist(1, 2, 3, 4, 5, 6, 7, 8, 9, 10))"
   ]
  },
  {
   "cell_type": "code",
   "execution_count": 5,
   "metadata": {},
   "outputs": [
    {
     "name": "stdout",
     "output_type": "stream",
     "text": [
      "55\n",
      "-53\n"
     ]
    }
   ],
   "source": [
    "def add(*args):\n",
    "    return sum(args)\n",
    "def sub(*args):\n",
    "    return args[0] - sum(args[1:])\n",
    "print(add(1, 2, 3, 4, 5, 6, 7, 8, 9, 10))\n",
    "print(sub(1, 2, 3, 4, 5, 6, 7, 8, 9, 10))"
   ]
  },
  {
   "cell_type": "code",
   "execution_count": 8,
   "metadata": {},
   "outputs": [
    {
     "name": "stdout",
     "output_type": "stream",
     "text": [
      "-20\n"
     ]
    }
   ],
   "source": [
    "# 2.3 compose\n",
    "\n",
    "def compose(f, g):\n",
    "    return lambda x: f(g(x))\n",
    "def negate(x):\n",
    "    return -x\n",
    "def double(x):\n",
    "    return x * 2\n",
    "\n",
    "print(compose(double, negate)(10))"
   ]
  },
  {
   "cell_type": "code",
   "execution_count": 18,
   "metadata": {},
   "outputs": [
    {
     "name": "stdout",
     "output_type": "stream",
     "text": [
      "-40\n"
     ]
    }
   ],
   "source": [
    "from functools import reduce\n",
    "# compose with var args\n",
    "def add(*args):\n",
    "    return lambda x: x + sum(args)\n",
    "def compose(*args):\n",
    "    return lambda x: reduce(lambda x, f: f(x), reversed(args), x)\n",
    "print(compose(double, negate, add(10))(10))"
   ]
  },
  {
   "cell_type": "code",
   "execution_count": 22,
   "metadata": {},
   "outputs": [
    {
     "name": "stdout",
     "output_type": "stream",
     "text": [
      "[[1, 4, 7], [2, 5, 8], [3, 6, 9]]\n"
     ]
    }
   ],
   "source": [
    "# zip\n",
    "def zip(*args):\n",
    "    return list(map(lambda *x: list(x), *args))\n",
    "print(zip([1, 2, 3], [4, 5, 6], [7, 8, 9]))"
   ]
  },
  {
   "cell_type": "code",
   "execution_count": 26,
   "metadata": {},
   "outputs": [
    {
     "name": "stdout",
     "output_type": "stream",
     "text": [
      "{1: 4, 2: 5, 3: 6}\n"
     ]
    }
   ],
   "source": [
    "# zipmap\n",
    "def zipmap(*args):\n",
    "    if len(args) != 2:  \n",
    "        raise Exception(\"zipmap only accept 2 arguments\")\n",
    "    return dict(map(lambda *x: list(x), *args))\n",
    "print(zipmap([1, 2, 3], [4, 5, 6]))"
   ]
  },
  {
   "cell_type": "code",
   "execution_count": 33,
   "metadata": {},
   "outputs": [
    {
     "name": "stdout",
     "output_type": "stream",
     "text": [
      "[12, 15, 18]\n"
     ]
    }
   ],
   "source": [
    "# 2.7 zipwith\n",
    "def zipwith(f, *args):\n",
    "    result = [0 for _ in range(len(args[0]))]\n",
    "    for i in args:\n",
    "        if len(i) != len(args[0]):\n",
    "            raise Exception(\"zipwith only accept same length arguments\")\n",
    "        result = list(map(lambda *x: f(*x), *args))\n",
    "    return result\n",
    "print(zipwith(lambda *x: sum(x), [1, 2, 3], [4, 5, 6], [7, 8, 9]))"
   ]
  },
  {
   "cell_type": "code",
   "execution_count": 39,
   "metadata": {},
   "outputs": [
    {
     "name": "stdout",
     "output_type": "stream",
     "text": [
      "1\n"
     ]
    }
   ],
   "source": [
    "# 2.8 car and cdr\n",
    "def cons(a, b):\n",
    "    def pair(f):\n",
    "        return f(a, b)\n",
    "    return pair\n",
    "def car(f):\n",
    "    return f(lambda a, b: a)\n",
    "def cdr(f):\n",
    "    return f(lambda a, b: b)\n",
    "\n",
    "print(car(cons(1, 2)))"
   ]
  },
  {
   "cell_type": "code",
   "execution_count": 40,
   "metadata": {},
   "outputs": [
    {
     "name": "stdout",
     "output_type": "stream",
     "text": [
      "6\n"
     ]
    }
   ],
   "source": [
    "# 2.9 partial\n",
    "def partial(f, *args):\n",
    "    return lambda *x: f(*(args + x))\n",
    "def add(a, b, c):\n",
    "    return a + b + c\n",
    "print(partial(add, 1, 2)(3))"
   ]
  },
  {
   "cell_type": "code",
   "execution_count": null,
   "metadata": {},
   "outputs": [],
   "source": [
    "# 2.10 transpose\n",
    "def transpose(nums):\n",
    "    "
   ]
  }
 ],
 "metadata": {
  "kernelspec": {
   "display_name": "Python 3",
   "language": "python",
   "name": "python3"
  },
  "language_info": {
   "codemirror_mode": {
    "name": "ipython",
    "version": 3
   },
   "file_extension": ".py",
   "mimetype": "text/x-python",
   "name": "python",
   "nbconvert_exporter": "python",
   "pygments_lexer": "ipython3",
   "version": "3.8.10"
  },
  "orig_nbformat": 4
 },
 "nbformat": 4,
 "nbformat_minor": 2
}
