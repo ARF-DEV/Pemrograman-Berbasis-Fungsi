{
 "cells": [
  {
   "cell_type": "code",
   "execution_count": 3,
   "metadata": {},
   "outputs": [
    {
     "name": "stdout",
     "output_type": "stream",
     "text": [
      "155\n"
     ]
    }
   ],
   "source": [
    "# 1 Learn about recursion\n",
    "\n",
    "input = [1, [[2], 3], [4], 5, [6, 100, [[7], [[8]], 9]], 10]\n",
    "def sum(nums, total = 0):\n",
    "    for i in nums:\n",
    "        if type(i) == list:\n",
    "            total = sum(i, total)\n",
    "        else:\n",
    "            total += i\n",
    "    return total\n",
    "print(sum(input))"
   ]
  },
  {
   "cell_type": "code",
   "execution_count": 4,
   "metadata": {},
   "outputs": [
    {
     "name": "stdout",
     "output_type": "stream",
     "text": [
      "[1, 2, 3, 4, 5, 6, 7, 8, 9, 10]\n"
     ]
    }
   ],
   "source": [
    "# 2 Learn about map, reduce, filter, apply and anonymous functions\n",
    "# 2.1 clist\n",
    "def clist(*args):\n",
    "    return list(args)\n",
    "print(clist(1, 2, 3, 4, 5, 6, 7, 8, 9, 10))"
   ]
  },
  {
   "cell_type": "code",
   "execution_count": 5,
   "metadata": {},
   "outputs": [
    {
     "name": "stdout",
     "output_type": "stream",
     "text": [
      "55\n",
      "-53\n"
     ]
    }
   ],
   "source": [
    "def add(*args):\n",
    "    return sum(args)\n",
    "def sub(*args):\n",
    "    return args[0] - sum(args[1:])\n",
    "print(add(1, 2, 3, 4, 5, 6, 7, 8, 9, 10))\n",
    "print(sub(1, 2, 3, 4, 5, 6, 7, 8, 9, 10))"
   ]
  },
  {
   "cell_type": "code",
   "execution_count": 8,
   "metadata": {},
   "outputs": [
    {
     "name": "stdout",
     "output_type": "stream",
     "text": [
      "-20\n"
     ]
    }
   ],
   "source": [
    "# 2.3 compose\n",
    "\n",
    "def compose(f, g):\n",
    "    return lambda x: f(g(x))\n",
    "def negate(x):\n",
    "    return -x\n",
    "def double(x):\n",
    "    return x * 2\n",
    "\n",
    "print(compose(double, negate)(10))"
   ]
  },
  {
   "cell_type": "code",
   "execution_count": 18,
   "metadata": {},
   "outputs": [
    {
     "name": "stdout",
     "output_type": "stream",
     "text": [
      "-40\n"
     ]
    }
   ],
   "source": [
    "from functools import reduce\n",
    "# compose with var args\n",
    "def add(*args):\n",
    "    return lambda x: x + sum(args)\n",
    "def compose(*args):\n",
    "    return lambda x: reduce(lambda x, f: f(x), reversed(args), x)\n",
    "print(compose(double, negate, add(10))(10))"
   ]
  },
  {
   "cell_type": "code",
   "execution_count": 22,
   "metadata": {},
   "outputs": [
    {
     "name": "stdout",
     "output_type": "stream",
     "text": [
      "[[1, 4, 7], [2, 5, 8], [3, 6, 9]]\n"
     ]
    }
   ],
   "source": [
    "# zip\n",
    "def zip(*args):\n",
    "    return list(map(lambda *x: list(x), *args))\n",
    "print(zip([1, 2, 3], [4, 5, 6], [7, 8, 9]))"
   ]
  },
  {
   "cell_type": "code",
   "execution_count": 26,
   "metadata": {},
   "outputs": [
    {
     "name": "stdout",
     "output_type": "stream",
     "text": [
      "{1: 4, 2: 5, 3: 6}\n"
     ]
    }
   ],
   "source": [
    "# zipmap\n",
    "def zipmap(*args):\n",
    "    if len(args) != 2:  \n",
    "        raise Exception(\"zipmap only accept 2 arguments\")\n",
    "    return dict(map(lambda *x: list(x), *args))\n",
    "print(zipmap([1, 2, 3], [4, 5, 6]))"
   ]
  },
  {
   "cell_type": "code",
   "execution_count": 33,
   "metadata": {},
   "outputs": [
    {
     "name": "stdout",
     "output_type": "stream",
     "text": [
      "[12, 15, 18]\n"
     ]
    }
   ],
   "source": [
    "# 2.7 zipwith\n",
    "def zipwith(f, *args):\n",
    "    result = [0 for _ in range(len(args[0]))]\n",
    "    for i in args:\n",
    "        if len(i) != len(args[0]):\n",
    "            raise Exception(\"zipwith only accept same length arguments\")\n",
    "        result = list(map(lambda *x: f(*x), *args))\n",
    "    return result\n",
    "print(zipwith(lambda *x: sum(x), [1, 2, 3], [4, 5, 6], [7, 8, 9]))"
   ]
  },
  {
   "cell_type": "code",
   "execution_count": 39,
   "metadata": {},
   "outputs": [
    {
     "name": "stdout",
     "output_type": "stream",
     "text": [
      "1\n"
     ]
    }
   ],
   "source": [
    "# 2.8 car and cdr\n",
    "def cons(a, b):\n",
    "    def pair(f):\n",
    "        return f(a, b)\n",
    "    return pair\n",
    "def car(f):\n",
    "    return f(lambda a, b: a)\n",
    "def cdr(f):\n",
    "    return f(lambda a, b: b)\n",
    "\n",
    "print(car(cons(1, 2)))"
   ]
  },
  {
   "cell_type": "code",
   "execution_count": 40,
   "metadata": {},
   "outputs": [
    {
     "name": "stdout",
     "output_type": "stream",
     "text": [
      "6\n"
     ]
    }
   ],
   "source": [
    "# 2.9 partial\n",
    "def partial(f, *args):\n",
    "    return lambda *x: f(*(args + x))\n",
    "def add(a, b, c):\n",
    "    return a + b + c\n",
    "print(partial(add, 1, 2)(3))"
   ]
  },
  {
   "cell_type": "code",
   "execution_count": 44,
   "metadata": {},
   "outputs": [
    {
     "name": "stdout",
     "output_type": "stream",
     "text": [
      "[[1, 4, 7], [2, 5, 8], [3, 6, 9]]\n"
     ]
    }
   ],
   "source": [
    "# 2.10 transpose\n",
    "def transpose(nums):\n",
    "    return list(map(lambda *x: list(x), *nums))\n",
    "\n",
    "print(transpose([[1, 2, 3], [4, 5, 6], [7, 8, 9]]))"
   ]
  },
  {
   "cell_type": "code",
   "execution_count": 45,
   "metadata": {},
   "outputs": [
    {
     "name": "stdout",
     "output_type": "stream",
     "text": [
      "1\n"
     ]
    }
   ],
   "source": [
    "# 2.11 flip\n",
    "def flip(f):\n",
    "    return lambda *x: f(*reversed(x))\n",
    "def sub(a, b):\n",
    "    return a - b\n",
    "print(flip(sub)(1, 2))"
   ]
  },
  {
   "cell_type": "code",
   "execution_count": 46,
   "metadata": {},
   "outputs": [
    {
     "name": "stdout",
     "output_type": "stream",
     "text": [
      "0\n"
     ]
    }
   ],
   "source": [
    "# 2.12 flips\n",
    "def flips(f):\n",
    "    return lambda *x: f(*reversed(x))\n",
    "def sub(a, b, c):\n",
    "    return a - b - c\n",
    "print(flips(sub)(1, 2, 3))\n"
   ]
  },
  {
   "cell_type": "code",
   "execution_count": 47,
   "metadata": {},
   "outputs": [
    {
     "name": "stdout",
     "output_type": "stream",
     "text": [
      "[1, 2, 3]\n"
     ]
    }
   ],
   "source": [
    "# 2.13 take\n",
    "\n",
    "def take(n, nums):\n",
    "    return nums[:n]\n",
    "print(take(3, [1, 2, 3, 4, 5, 6, 7, 8, 9]))"
   ]
  },
  {
   "cell_type": "code",
   "execution_count": 48,
   "metadata": {},
   "outputs": [
    {
     "name": "stdout",
     "output_type": "stream",
     "text": [
      "[4, 5, 6, 7, 8, 9]\n"
     ]
    }
   ],
   "source": [
    "# 2.14 drop\n",
    "def drop(n, nums):\n",
    "    return nums[n:]\n",
    "print(drop(3, [1, 2, 3, 4, 5, 6, 7, 8, 9]))"
   ]
  },
  {
   "cell_type": "code",
   "execution_count": 49,
   "metadata": {},
   "outputs": [
    {
     "name": "stdout",
     "output_type": "stream",
     "text": [
      "[1, 2, 3, 4, 5, 6, 7, 8, 9, 10]\n"
     ]
    }
   ],
   "source": [
    "# 2.15 flatten\n",
    "def flatten(nums):\n",
    "    result = []\n",
    "    for i in nums:\n",
    "        if type(i) == list:\n",
    "            result += flatten(i)\n",
    "        else:\n",
    "            result.append(i)\n",
    "    return result\n",
    "print(flatten([1, [2, 3], [4, [5, 6]], 7, [8, 9, 10]]))\n"
   ]
  },
  {
   "cell_type": "code",
   "execution_count": 51,
   "metadata": {},
   "outputs": [
    {
     "name": "stdout",
     "output_type": "stream",
     "text": [
      "[[1, 4, 'a'], [2, 5, 'b'], [3, 6, 'c']]\n"
     ]
    }
   ],
   "source": [
    "# 2.16 interleave\n",
    "def interleave(*args):\n",
    "    return list(map(lambda *x: list(x), *args))\n",
    "print(interleave([1, 2, 3], [4, 5, 6], \"abc\"))"
   ]
  },
  {
   "cell_type": "code",
   "execution_count": 52,
   "metadata": {},
   "outputs": [
    {
     "name": "stdout",
     "output_type": "stream",
     "text": [
      "True\n"
     ]
    }
   ],
   "source": [
    "# 2.17 every_pred\n",
    "def every_pred(*args):\n",
    "    return lambda x: all(map(lambda f: f(x), args))\n",
    "def even(x):\n",
    "    return x % 2 == 0\n",
    "def gt_10(x):\n",
    "    return x > 10\n",
    "print(every_pred(even, gt_10)(12))"
   ]
  },
  {
   "cell_type": "code",
   "execution_count": 54,
   "metadata": {},
   "outputs": [
    {
     "name": "stdout",
     "output_type": "stream",
     "text": [
      "{1: 1, 2: 1, 3: 1, 4: 1, 5: 1, 6: 1, 7: 1, 8: 1, 9: 1, 10: 1}\n"
     ]
    }
   ],
   "source": [
    "# 2.18 frequencies\n",
    "def frequencies(input):\n",
    "    result = {}\n",
    "    for i in input:\n",
    "        if i in result:\n",
    "            result[i] += 1\n",
    "        else:\n",
    "            result[i] = 1\n",
    "    return result\n",
    "print(frequencies([1, 2, 3, 4, 5, 6, 7, 8, 9, 10]))"
   ]
  },
  {
   "cell_type": "code",
   "execution_count": 55,
   "metadata": {},
   "outputs": [
    {
     "name": "stdout",
     "output_type": "stream",
     "text": [
      "[[1, 2, 3], [4, 5, 6], [7, 8, 9]]\n"
     ]
    }
   ],
   "source": [
    "# 2.19 partition\n",
    "def partition(nums, n):\n",
    "    return [nums[i:i+n] for i in range(0, len(nums), n)]\n",
    "print(partition([1, 2, 3, 4, 5, 6, 7, 8, 9], 3))"
   ]
  },
  {
   "cell_type": "code",
   "execution_count": 56,
   "metadata": {},
   "outputs": [
    {
     "name": "stdout",
     "output_type": "stream",
     "text": [
      "{1: 11, 2: 2, 3: 3}\n"
     ]
    }
   ],
   "source": [
    "# 2.20 merge_with\n",
    "def merge_with(f, *args):\n",
    "    result = {}\n",
    "    for i in args:\n",
    "        for j in i:\n",
    "            if j in result:\n",
    "                result[j] = f(result[j], i[j])\n",
    "            else:\n",
    "                result[j] = i[j]\n",
    "    return result\n",
    "def add(a, b):\n",
    "    return a + b\n",
    "print(merge_with(add, {1: 1, 2: 2}, {1: 10, 3: 3}))"
   ]
  },
  {
   "cell_type": "code",
   "execution_count": 59,
   "metadata": {},
   "outputs": [
    {
     "name": "stdout",
     "output_type": "stream",
     "text": [
      "[1, 2, 3, 4, 5, 6, 7, 8, 9, 10]\n",
      "[[1, [2, 3], [4, [5, 6]], 7, [8, 9, 10]]]\n"
     ]
    }
   ],
   "source": [
    "# 2.21 tree_seq\n",
    "def tree_seq(is_branch, children, root):\n",
    "    result = []\n",
    "    if is_branch(root):\n",
    "        for i in children(root):\n",
    "            result += tree_seq(is_branch, children, i)\n",
    "    else:\n",
    "        result.append(root)\n",
    "    return result\n",
    "def is_branch(x):\n",
    "    return type(x) == list\n",
    "def children(x):\n",
    "    return x\n",
    "print(tree_seq(is_branch, children, [1, [2, 3], [4, [5, 6]], 7, [8, 9, 10]]))\n",
    "def is_integer(x):\n",
    "    return type(x) == int\n",
    "def identity(x):\n",
    "    return x\n",
    "print(tree_seq(is_integer, identity, [1, [2, 3], [4, [5, 6]], 7, [8, 9, 10]]))\n"
   ]
  },
  {
   "cell_type": "code",
   "execution_count": 61,
   "metadata": {},
   "outputs": [
    {
     "name": "stdout",
     "output_type": "stream",
     "text": [
      "3\n"
     ]
    }
   ],
   "source": [
    "# 2.22 memoize\n",
    "def memoize(f):\n",
    "    cache = {}\n",
    "    def helper(*args):\n",
    "        if args in cache:\n",
    "            return cache[args]\n",
    "        else:\n",
    "            cache[args] = f(*args)\n",
    "            return cache[args]\n",
    "    return helper\n",
    "\n",
    "def add(a, b):\n",
    "    return a + b\n",
    "print(memoize(add)(1, 2))"
   ]
  },
  {
   "cell_type": "code",
   "execution_count": 63,
   "metadata": {},
   "outputs": [
    {
     "name": "stdout",
     "output_type": "stream",
     "text": [
      "{False: [1, 3, 5, 7, 9], True: [2, 4, 6, 8]}\n"
     ]
    }
   ],
   "source": [
    "# 2.23 group_by\n",
    "def group_by(f, nums):\n",
    "    result = {}\n",
    "    for i in nums:\n",
    "        if f(i) in result:\n",
    "            result[f(i)].append(i)\n",
    "        else:\n",
    "            result[f(i)] = [i]\n",
    "    return result\n",
    "def even(x):\n",
    "    return x % 2 == 0\n",
    "print(group_by(even, [1, 2, 3, 4, 5, 6, 7, 8, 9]))"
   ]
  },
  {
   "cell_type": "code",
   "execution_count": 64,
   "metadata": {},
   "outputs": [
    {
     "name": "stdout",
     "output_type": "stream",
     "text": [
      "[1, 2, 10, 4, 5]\n"
     ]
    }
   ],
   "source": [
    "# 2.24 update\n",
    "def update(nums, index, value):\n",
    "    result = nums[:]\n",
    "    result[index] = value\n",
    "    return result\n",
    "print(update([1, 2, 3, 4, 5], 2, 10))"
   ]
  },
  {
   "cell_type": "code",
   "execution_count": 65,
   "metadata": {},
   "outputs": [
    {
     "name": "stdout",
     "output_type": "stream",
     "text": [
      "[1, 2, 3, [4, 10, 6], 7, 8, 9]\n"
     ]
    }
   ],
   "source": [
    "# 2.25 update_in\n",
    "def update_in(nums, path, value):\n",
    "    result = nums[:]\n",
    "    if len(path) == 1:\n",
    "        result[path[0]] = value\n",
    "    else:\n",
    "        result[path[0]] = update_in(result[path[0]], path[1:], value)\n",
    "    return result\n",
    "print(update_in([1, 2, 3, [4, 5, 6], 7, 8, 9], [3, 1], 10))"
   ]
  },
  {
   "cell_type": "code",
   "execution_count": 66,
   "metadata": {},
   "outputs": [
    {
     "data": {
      "text/plain": [
       "True"
      ]
     },
     "execution_count": 66,
     "metadata": {},
     "output_type": "execute_result"
    }
   ],
   "source": [
    "# 2.26 balanced\n",
    "def balanced(nums):\n",
    "    return nums.count(\"(\") == nums.count(\")\")\n",
    "balanced(\"abc(def{g}hi[jk]((()))l)m\")"
   ]
  },
  {
   "cell_type": "code",
   "execution_count": 69,
   "metadata": {},
   "outputs": [
    {
     "name": "stdout",
     "output_type": "stream",
     "text": [
      "[[1], [[2], [3]], [[4], [[5], [6]]], [7], [[8], [9], [10]]]\n"
     ]
    }
   ],
   "source": [
    "# 2.27 postwalk, prewalk\n",
    "def postwalk(f, nums):\n",
    "    if type(nums) == list:\n",
    "        return list(map(lambda x: postwalk(f, x), nums))\n",
    "    else:\n",
    "        return f(nums)\n",
    "def prewalk(f, nums):\n",
    "    if type(nums) == list:\n",
    "        return f(list(map(lambda x: prewalk(f, x), nums)))\n",
    "    else:\n",
    "        return f(nums)\n",
    "def inc(x):\n",
    "    return x + 1\n",
    "def wrap_unless_zero(x):\n",
    "    return [x] if x != 0 else []\n",
    "print(postwalk(wrap_unless_zero, [1, [2, 3], [4, [5, 6]], 7, [8, 9, 10]]))"
   ]
  },
  {
   "cell_type": "code",
   "execution_count": 76,
   "metadata": {},
   "outputs": [
    {
     "name": "stdout",
     "output_type": "stream",
     "text": [
      "15\n",
      "25\n",
      "[False, True, False, True, False]\n",
      "[2, 4]\n"
     ]
    }
   ],
   "source": [
    "# 2.28 Recreate map, filter and reduce\n",
    "def map(f, nums):\n",
    "    return [f(i) for i in nums]\n",
    "def filter(f, nums):\n",
    "    return [i for i in nums if f(i)]\n",
    "def reduce(f, nums, init=0):\n",
    "    result = init\n",
    "    for i in nums:\n",
    "        result = f(result, i)\n",
    "    return result\n",
    "def add(a, b):\n",
    "    return a + b\n",
    "def even(x):\n",
    "    return x % 2 == 0\n",
    "print(reduce(add, [1, 2, 3, 4, 5]))\n",
    "print(reduce(add, [1, 2, 3, 4, 5], 10))\n",
    "print(map(even, [1, 2, 3, 4, 5]))\n",
    "print(filter(even, [1, 2, 3, 4, 5]))"
   ]
  },
  {
   "cell_type": "code",
   "execution_count": null,
   "metadata": {},
   "outputs": [],
   "source": []
  }
 ],
 "metadata": {
  "kernelspec": {
   "display_name": "Python 3",
   "language": "python",
   "name": "python3"
  },
  "language_info": {
   "codemirror_mode": {
    "name": "ipython",
    "version": 3
   },
   "file_extension": ".py",
   "mimetype": "text/x-python",
   "name": "python",
   "nbconvert_exporter": "python",
   "pygments_lexer": "ipython3",
   "version": "3.8.10"
  },
  "orig_nbformat": 4
 },
 "nbformat": 4,
 "nbformat_minor": 2
}
