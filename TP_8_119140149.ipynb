{
 "cells": [
  {
   "attachments": {},
   "cell_type": "markdown",
   "metadata": {},
   "source": [
    "# 1. Jelaskan perbedaan antara looping dengan for, while, dan rekursif  \n",
    "For loop adalah proses perulangan suatu block kode dengan jumlah looping yang diketahui  \n",
    "While loop merupakah proses perulangan suatu block kode dengan kondisi berhenti looping yang diketahui  \n",
    "Sedangkan rekursif merupakan proses pemanggilan fungsi oleh didalam fungsi itu sendiri, yang menyebabkan perulangan sampai kondisi berhenti dipenuhi"
   ]
  },
  {
   "attachments": {},
   "cell_type": "markdown",
   "metadata": {},
   "source": [
    "# 2.  Fibbonacci Problem.\n",
    "Fibonacci adalah suatu barisan bilangan yang merupakan hasil penjumlahan dua bilangan sebelumnya. Contoh: 0, 1, 1, 2, 3, 5, 8, 13, 21, 34, 55, 89, 144, ……..\n",
    "Fibonacci menggunakan perulangan untuk menjalankan perhitungannya lengkapi code fibonacci\n",
    "dibawah ini:"
   ]
  },
  {
   "cell_type": "code",
   "execution_count": 1,
   "metadata": {},
   "outputs": [
    {
     "data": {
      "text/plain": [
       "[0, 1, 1]"
      ]
     },
     "execution_count": 1,
     "metadata": {},
     "output_type": "execute_result"
    }
   ],
   "source": [
    "def fib(numbers):\n",
    "    fibo =[0,1] #Base\n",
    "    if numbers > 2:\n",
    "        for i in range(2, numbers):\n",
    "            #elemen berikutnya dalam seri = jumlah dari dua angka sebelumnya\n",
    "            nextElement = fibo[i-1] + fibo[i-2]\n",
    "            #menambahkan elemen ke list\n",
    "            fibo.append(nextElement)\n",
    "    return fibo\n",
    "\n",
    "fib(3)"
   ]
  },
  {
   "attachments": {},
   "cell_type": "markdown",
   "metadata": {},
   "source": [
    "# 3. Buatlah fungsi looping diatas menjadi looping rekursif!"
   ]
  },
  {
   "cell_type": "code",
   "execution_count": 15,
   "metadata": {},
   "outputs": [
    {
     "data": {
      "text/plain": [
       "[0, 1, 1, 2, 3]"
      ]
     },
     "execution_count": 15,
     "metadata": {},
     "output_type": "execute_result"
    }
   ],
   "source": [
    "def fibonacci(num):\n",
    "    base = [0,1]\n",
    "    if num < 2:\n",
    "        return base[num]\n",
    "    return fibonacci(num - 1) + fibonacci(num - 2) #Rekursif Case\n",
    "[fibonacci(num) for num in range(5)]"
   ]
  },
  {
   "cell_type": "code",
   "execution_count": null,
   "metadata": {},
   "outputs": [],
   "source": []
  }
 ],
 "metadata": {
  "kernelspec": {
   "display_name": "Python 3",
   "language": "python",
   "name": "python3"
  },
  "language_info": {
   "codemirror_mode": {
    "name": "ipython",
    "version": 3
   },
   "file_extension": ".py",
   "mimetype": "text/x-python",
   "name": "python",
   "nbconvert_exporter": "python",
   "pygments_lexer": "ipython3",
   "version": "3.8.10"
  },
  "orig_nbformat": 4
 },
 "nbformat": 4,
 "nbformat_minor": 2
}
