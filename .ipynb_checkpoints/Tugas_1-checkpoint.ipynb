{
 "cells": [
  {
   "cell_type": "code",
   "execution_count": 13,
   "id": "5290f704-873b-4321-897a-ec2868a133aa",
   "metadata": {},
   "outputs": [],
   "source": [
    "import pandas as pd"
   ]
  },
  {
   "cell_type": "markdown",
   "id": "dae867d4-e807-4e6b-95c3-85e04e083c8e",
   "metadata": {},
   "source": [
    "### No. 1"
   ]
  },
  {
   "cell_type": "code",
   "execution_count": 14,
   "id": "e4d9a095-fcd4-4a34-90e0-bc123bbbf459",
   "metadata": {},
   "outputs": [
    {
     "data": {
      "text/html": [
       "<div>\n",
       "<style scoped>\n",
       "    .dataframe tbody tr th:only-of-type {\n",
       "        vertical-align: middle;\n",
       "    }\n",
       "\n",
       "    .dataframe tbody tr th {\n",
       "        vertical-align: top;\n",
       "    }\n",
       "\n",
       "    .dataframe thead th {\n",
       "        text-align: right;\n",
       "    }\n",
       "</style>\n",
       "<table border=\"1\" class=\"dataframe\">\n",
       "  <thead>\n",
       "    <tr style=\"text-align: right;\">\n",
       "      <th></th>\n",
       "      <th>kelebihan</th>\n",
       "      <th>kekurangan</th>\n",
       "    </tr>\n",
       "  </thead>\n",
       "  <tbody>\n",
       "    <tr>\n",
       "      <th>0</th>\n",
       "      <td>penulisan program lebih singkat</td>\n",
       "      <td>lebih sulit untuk dibaca pada sistem yang komp...</td>\n",
       "    </tr>\n",
       "    <tr>\n",
       "      <th>1</th>\n",
       "      <td>lebih simpel</td>\n",
       "      <td>tidak cocok untuk sistem yang sangat kompleks</td>\n",
       "    </tr>\n",
       "    <tr>\n",
       "      <th>2</th>\n",
       "      <td>penggunaan memori yang lebih sedikit</td>\n",
       "      <td>variable tidak bisa diubah</td>\n",
       "    </tr>\n",
       "  </tbody>\n",
       "</table>\n",
       "</div>"
      ],
      "text/plain": [
       "                              kelebihan  \\\n",
       "0       penulisan program lebih singkat   \n",
       "1                          lebih simpel   \n",
       "2  penggunaan memori yang lebih sedikit   \n",
       "\n",
       "                                          kekurangan  \n",
       "0  lebih sulit untuk dibaca pada sistem yang komp...  \n",
       "1      tidak cocok untuk sistem yang sangat kompleks  \n",
       "2                         variable tidak bisa diubah  "
      ]
     },
     "execution_count": 14,
     "metadata": {},
     "output_type": "execute_result"
    }
   ],
   "source": [
    "tabel_1 = {'kelebihan' : ['penulisan program lebih singkat', 'lebih simpel', 'penggunaan memori yang lebih sedikit'], \n",
    "        'kekurangan' : ['lebih sulit untuk dibaca pada sistem yang kompleks', 'tidak cocok untuk sistem yang sangat kompleks', 'variable tidak bisa diubah']}\n",
    "\n",
    "df_1 = pd.DataFrame(tabel_1)\n",
    "df_1"
   ]
  },
  {
   "cell_type": "markdown",
   "id": "a7b21ec8-a543-4ba3-b0fc-345e52a77f8b",
   "metadata": {},
   "source": [
    "### No. 2"
   ]
  },
  {
   "cell_type": "code",
   "execution_count": 10,
   "id": "1623cdbb-cbc7-4de0-87a2-033d9632c863",
   "metadata": {},
   "outputs": [
    {
     "data": {
      "text/html": [
       "<div>\n",
       "<style scoped>\n",
       "    .dataframe tbody tr th:only-of-type {\n",
       "        vertical-align: middle;\n",
       "    }\n",
       "\n",
       "    .dataframe tbody tr th {\n",
       "        vertical-align: top;\n",
       "    }\n",
       "\n",
       "    .dataframe thead th {\n",
       "        text-align: right;\n",
       "    }\n",
       "</style>\n",
       "<table border=\"1\" class=\"dataframe\">\n",
       "  <thead>\n",
       "    <tr style=\"text-align: right;\">\n",
       "      <th></th>\n",
       "      <th>kelebihan</th>\n",
       "      <th>kekurangan</th>\n",
       "    </tr>\n",
       "  </thead>\n",
       "  <tbody>\n",
       "    <tr>\n",
       "      <th>0</th>\n",
       "      <td>Cocok untuk program yang kompleks</td>\n",
       "      <td>membutuhkan waktu lebih lama dari FP untuk dip...</td>\n",
       "    </tr>\n",
       "    <tr>\n",
       "      <th>1</th>\n",
       "      <td>kode mudah untuk dipahami pada sistem yang kom...</td>\n",
       "      <td>penggunaan memori lebih banyak</td>\n",
       "    </tr>\n",
       "    <tr>\n",
       "      <th>2</th>\n",
       "      <td>variable dapat diubah ubah kapan saja di runtime</td>\n",
       "      <td>kode/syntax yang tidak simpel</td>\n",
       "    </tr>\n",
       "  </tbody>\n",
       "</table>\n",
       "</div>"
      ],
      "text/plain": [
       "                                           kelebihan  \\\n",
       "0                  Cocok untuk program yang kompleks   \n",
       "1  kode mudah untuk dipahami pada sistem yang kom...   \n",
       "2   variable dapat diubah ubah kapan saja di runtime   \n",
       "\n",
       "                                          kekurangan  \n",
       "0  membutuhkan waktu lebih lama dari FP untuk dip...  \n",
       "1                     penggunaan memori lebih banyak  \n",
       "2                      kode/syntax yang tidak simpel  "
      ]
     },
     "execution_count": 10,
     "metadata": {},
     "output_type": "execute_result"
    }
   ],
   "source": [
    "tabel_2 = {'kelebihan' : ['Cocok untuk program yang kompleks', 'kode mudah untuk dipahami pada sistem yang kompleks', 'variable dapat diubah ubah kapan saja di runtime'], \n",
    "        'kekurangan' : ['membutuhkan waktu lebih lama dari FP untuk diprogram', 'penggunaan memori lebih banyak', 'kode/syntax yang tidak simpel']}\n",
    "\n",
    "df_2 = pd.DataFrame(tabel_2)\n",
    "df_2"
   ]
  },
  {
   "cell_type": "markdown",
   "id": "b023c8f8-d351-48e6-af2a-b946e34ae48f",
   "metadata": {},
   "source": [
    "### No. 3"
   ]
  },
  {
   "cell_type": "code",
   "execution_count": 11,
   "id": "97c2ff32-9369-4bf5-abf4-3438b172a2c8",
   "metadata": {},
   "outputs": [
    {
     "data": {
      "text/html": [
       "<div>\n",
       "<style scoped>\n",
       "    .dataframe tbody tr th:only-of-type {\n",
       "        vertical-align: middle;\n",
       "    }\n",
       "\n",
       "    .dataframe tbody tr th {\n",
       "        vertical-align: top;\n",
       "    }\n",
       "\n",
       "    .dataframe thead th {\n",
       "        text-align: right;\n",
       "    }\n",
       "</style>\n",
       "<table border=\"1\" class=\"dataframe\">\n",
       "  <thead>\n",
       "    <tr style=\"text-align: right;\">\n",
       "      <th></th>\n",
       "      <th>kelebihan</th>\n",
       "      <th>kekurangan</th>\n",
       "    </tr>\n",
       "  </thead>\n",
       "  <tbody>\n",
       "    <tr>\n",
       "      <th>0</th>\n",
       "      <td>alur program terlihat lebih jelas</td>\n",
       "      <td>membutuhkan development time yang lebih lama</td>\n",
       "    </tr>\n",
       "    <tr>\n",
       "      <th>1</th>\n",
       "      <td>mudah dibaca jika program cukup kompleks</td>\n",
       "      <td>data kurang aman</td>\n",
       "    </tr>\n",
       "    <tr>\n",
       "      <th>2</th>\n",
       "      <td>lebih simpel dibandingkan FP</td>\n",
       "      <td>lebih banyak pengulangan kode dibandingkan den...</td>\n",
       "    </tr>\n",
       "  </tbody>\n",
       "</table>\n",
       "</div>"
      ],
      "text/plain": [
       "                                  kelebihan  \\\n",
       "0         alur program terlihat lebih jelas   \n",
       "1  mudah dibaca jika program cukup kompleks   \n",
       "2              lebih simpel dibandingkan FP   \n",
       "\n",
       "                                          kekurangan  \n",
       "0       membutuhkan development time yang lebih lama  \n",
       "1                                   data kurang aman  \n",
       "2  lebih banyak pengulangan kode dibandingkan den...  "
      ]
     },
     "execution_count": 11,
     "metadata": {},
     "output_type": "execute_result"
    }
   ],
   "source": [
    "tabel_3 = {'kelebihan' : ['alur program terlihat lebih jelas', 'mudah dibaca jika program cukup kompleks', 'lebih simpel dibandingkan FP'], \n",
    "        'kekurangan' : ['membutuhkan development time yang lebih lama', 'data kurang aman', 'lebih banyak pengulangan kode dibandingkan dengan FP']}\n",
    "\n",
    "df_3 = pd.DataFrame(tabel_3)\n",
    "df_3"
   ]
  },
  {
   "cell_type": "markdown",
   "id": "8dbc9f19-9438-47ce-befd-f3a8519227b2",
   "metadata": {},
   "source": [
    "### No. 4"
   ]
  },
  {
   "cell_type": "markdown",
   "id": "11c911b5-5836-4b97-8447-fd3c618589ab",
   "metadata": {},
   "source": [
    "*Pure Functional Programming Languages* adalah bahasa pemrograman yang hanya menerapkan paradigma *Fuctional Programming* tanpa menggabungkan nya dengan paradigma lain seperti OOP dan Procedural"
   ]
  },
  {
   "cell_type": "markdown",
   "id": "170e1ae1-e355-4ad6-b803-10fa5e226728",
   "metadata": {},
   "source": [
    "### No. 5"
   ]
  },
  {
   "cell_type": "markdown",
   "id": "a92c0616-8499-49da-a6fa-3777a1a3b228",
   "metadata": {},
   "source": [
    "Haskell"
   ]
  },
  {
   "cell_type": "markdown",
   "id": "fbfb5884-d0be-4465-8624-668a1b66d788",
   "metadata": {},
   "source": [
    "### No. 6"
   ]
  },
  {
   "cell_type": "code",
   "execution_count": 26,
   "id": "62266169-7734-4349-810c-6c1286ee6fd1",
   "metadata": {},
   "outputs": [],
   "source": [
    "def encrypt(word: str) -> str:\n",
    "    if len(word) > 100:\n",
    "        return \"Word is too long!!\"\n",
    "\n",
    "    res = \"\"\n",
    "    for c in word:\n",
    "        c_ = ord(c)\n",
    "        first_value = (c_ // 26) + 80\n",
    "        second_value = (c_ % 26) + 80\n",
    "        third_value = '+' if first_value > second_value else '-'\n",
    "        res += chr(first_value) + chr(second_value) + third_value\n",
    "\n",
    "    return res"
   ]
  },
  {
   "cell_type": "code",
   "execution_count": 27,
   "id": "203b3688-5dd6-44f9-82cb-629e0af820e7",
   "metadata": {},
   "outputs": [
    {
     "name": "stdout",
     "output_type": "stream",
     "text": [
      "R]-TX-Sc-Se-TQ+TS+R[-R[-\n"
     ]
    }
   ],
   "source": [
    "print(encrypt(\"Apacik??\"))\n"
   ]
  },
  {
   "cell_type": "code",
   "execution_count": null,
   "id": "19e03906-e0ff-4881-a16c-f2e86071417a",
   "metadata": {},
   "outputs": [],
   "source": []
  }
 ],
 "metadata": {
  "kernelspec": {
   "display_name": "Python 3 (ipykernel)",
   "language": "python",
   "name": "python3"
  },
  "language_info": {
   "codemirror_mode": {
    "name": "ipython",
    "version": 3
   },
   "file_extension": ".py",
   "mimetype": "text/x-python",
   "name": "python",
   "nbconvert_exporter": "python",
   "pygments_lexer": "ipython3",
   "version": "3.8.10"
  }
 },
 "nbformat": 4,
 "nbformat_minor": 5
}
