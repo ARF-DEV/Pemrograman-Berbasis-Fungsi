{
 "cells": [
  {
   "cell_type": "code",
   "execution_count": 2,
   "metadata": {},
   "outputs": [],
   "source": [
    "# Muhammad Ariefuddin Satria Dharma\n",
    "# 119140149\n",
    "# PBF RA\n",
    "from functools import reduce\n",
    "from math import sqrt"
   ]
  },
  {
   "cell_type": "code",
   "execution_count": 3,
   "metadata": {},
   "outputs": [
    {
     "data": {
      "text/plain": [
       "3"
      ]
     },
     "execution_count": 3,
     "metadata": {},
     "output_type": "execute_result"
    }
   ],
   "source": [
    "# 1. Buat fungsi mencari jumlah bilangan genap dari list L! Example\n",
    "# L = [2,1,9,10,3,90,15]\n",
    "# Output: 3\n",
    "\n",
    "L = [2,1,9,10,3,90,15]\n",
    "\n",
    "def count_even(current_sum, current_value):\n",
    "    return current_sum + 1 if current_value % 2 == 0 else current_sum\n",
    "\n",
    "\n",
    "result = reduce(count_even, L, 0)\n",
    "result\n"
   ]
  },
  {
   "cell_type": "code",
   "execution_count": 4,
   "metadata": {},
   "outputs": [
    {
     "name": "stdout",
     "output_type": "stream",
     "text": [
      "120\n"
     ]
    }
   ],
   "source": [
    "# 2. Buat fungsi untuk menghitung n! Menggunakan reduce!\n",
    "def factorial(n):\n",
    "    return 1 if n == 0 else reduce(lambda x, y: x * y, range(1, n+1))\n",
    "\n",
    "print(factorial(5)) # Output: 120"
   ]
  },
  {
   "cell_type": "code",
   "execution_count": 5,
   "metadata": {},
   "outputs": [
    {
     "name": "stdout",
     "output_type": "stream",
     "text": [
      "Jarak Euclidean antara X dan Y adalah: 10.583005244258363\n"
     ]
    }
   ],
   "source": [
    "# 3. Hitung euclidian distance dari dua vektor berikut menggunakan\n",
    "# higher order function! \n",
    "# X = [2,5,6,7,10]\n",
    "# Y = [-2,9,2,-1,10]\n",
    "\n",
    "X = [2, 5, 6, 7, 10]\n",
    "Y = [-2, 9, 2, -1, 10]\n",
    "\n",
    "def euclidean_distance(X, Y):\n",
    "    squared_diff = list(map(lambda x, y: (x - y) ** 2, X, Y))\n",
    "    sum_squared_diff = reduce(lambda x, y: x + y, squared_diff)\n",
    "    return sqrt(sum_squared_diff)\n",
    "\n",
    "# Mencetak hasil jarak Euclidean\n",
    "print(\"Jarak Euclidean antara X dan Y adalah:\", euclidean_distance(X, Y))"
   ]
  },
  {
   "cell_type": "code",
   "execution_count": 8,
   "metadata": {},
   "outputs": [],
   "source": [
    "# 4. Terdapat dictionary employee berisi nama dan umur pegawai, lakukan reduce untuk mengetahui berapa jumlah pegawai yang berumur > 25 tahun !\n",
    "employee = {\n",
    "    'Nagao':35 , 'Ishii':30 , 'Kazutomo':20 , 'Saito':25 , 'Hidemi':29,\n",
    "}\n",
    "\n",
    "students = {\n",
    "    'YOSIA ADWILY NAINGGOLAN': 48,\n",
    "    'Ari Sigit': 48,\n",
    "    'HUSNI NA`FA MUBAROK': 24,\n",
    "    'Shula Talitha Ardhya Putri': 32,\n",
    "    'JASMINE GEORGINA SEKARTAJI': 26,\n",
    "    'hanna sajidah': 48,\n",
    "    'Veni Zahara Kartika': 17,\n",
    "    'Elsyah Sapyrah': 33,\n",
    "    'ANNISA CAHYANI SURYA': 27,\n",
    "    'MUHAMMAD SYAUQI ATTALLAH': 38,\n",
    "    'DIMAS RIZKY RAMADHANI': 33,\n",
    "    'Muhammad Rendy Saputra': 39,\n",
    "    'MUHAMMAD HANIF FAROS': 20,\n",
    "    'M. FARHAN ATHAULLOH': 18,\n",
    "    'MUHAMMAD FAHRUL ADITYA': 19,\n",
    "    'BALQIS DWIAN FITRI ZAMZAMI': 37,\n",
    "    'Muhammad Bagas Kurnia': 43,\n",
    "    'CATHERINE FIRDHASARI MAULINA SINAGA': 39,\n",
    "    'ANDRIAN AGUSTINUS LUMBAN GAOL': 45,\n",
    "    'KIWIT NOVITASARI': 40,\n",
    "    'EVAN APRIANTO': 47,\n",
    "    'RIKA AJENG FINATIH': 21,\n",
    "    'NADIA SILVANI': 20,\n",
    "    'ANISA DINI AMALIA': 21,\n",
    "    'Evan Aryaputra': 22,\n",
    "    'NADILLA ANDHARA PUTRI': 17,\n",
    "    'Pramudya Wibowo': 18,\n",
    "    'SYLVIANI PRIMA ASTUTI ANANDA': 49,\n",
    "    'Anissa Luthfi Alifia': 22,\n",
    "    'PATRICIA GABY RAHMAWATI TAMBA': 46,\n",
    "    'PUTRI OLIVIA NURAENI': 47,\n",
    "    'KHOIRUL AMAR SIDIK': 29,\n",
    "    'LIA ALYANI': 21,\n",
    "    'Tarisah': 30,\n",
    "    'Leonard Andreas Napitupulu': 31,\n",
    "    'MUJADID CHOIRUS SURYA': 33,\n",
    "    'DEVINA ANIN SAFITRI': 47,\n",
    "    'MUHAMMAD ARSAL RANJANA UTAMA': 25,\n",
    "    'WULAN SABINA': 33,\n",
    "    'M. AKBAR RESDIKA': 25,\n",
    "    'VANESSA OLIVIA ROSE': 27,\n",
    "    'Ditta Winanda Putri': 45,\n",
    "    'Maria Gresia Hutabarat': 30,\n",
    "    'A Rafi Paringgom Iwari': 18,\n",
    "    'ANDINI NUR IZZATI': 32,\n",
    "    'M. FAQIH': 16,\n",
    "    'Muhammad Ariefuddin Satria Dharma': 18,\n",
    "    'Fahri Novaldi': 26\n",
    "}\n",
    "\n",
    "all = {**employee, **students}"
   ]
  },
  {
   "cell_type": "code",
   "execution_count": 9,
   "metadata": {},
   "outputs": [
    {
     "data": {
      "text/plain": [
       "25"
      ]
     },
     "execution_count": 9,
     "metadata": {},
     "output_type": "execute_result"
    }
   ],
   "source": [
    "def filter_by_keyword(keyword, dictionary):\n",
    "    return dict(filter(lambda x: keyword in x[0].lower(), dictionary.items()))\n",
    "\n",
    "filter_by_age = lambda age, dictionary: dict(filter(lambda x: x[1] > age, dictionary.items()))\n",
    "\n",
    "min_age = 25\n",
    "keyword = 's'\n",
    "\n",
    "# count using reduce\n",
    "result = reduce(lambda x, y: x + 1, filter_by_age(min_age, filter_by_keyword(keyword, all)).values(), 0)\n",
    "result"
   ]
  },
  {
   "cell_type": "code",
   "execution_count": null,
   "metadata": {},
   "outputs": [],
   "source": []
  }
 ],
 "metadata": {
  "kernelspec": {
   "display_name": "torch_pg",
   "language": "python",
   "name": "python3"
  },
  "language_info": {
   "codemirror_mode": {
    "name": "ipython",
    "version": 3
   },
   "file_extension": ".py",
   "mimetype": "text/x-python",
   "name": "python",
   "nbconvert_exporter": "python",
   "pygments_lexer": "ipython3",
   "version": "3.8.10"
  },
  "orig_nbformat": 4
 },
 "nbformat": 4,
 "nbformat_minor": 2
}
